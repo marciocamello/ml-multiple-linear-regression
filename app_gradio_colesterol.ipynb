{
 "cells": [
  {
   "cell_type": "code",
   "execution_count": 78,
   "id": "e768a83a",
   "metadata": {},
   "outputs": [],
   "source": [
    "import gradio as gr\n",
    "import joblib\n",
    "import pandas as pd"
   ]
  },
  {
   "cell_type": "code",
   "execution_count": 79,
   "id": "7969b39d",
   "metadata": {},
   "outputs": [],
   "source": [
    "# Carregar modelo\n",
    "modelo = joblib.load('./modelo_colesterol.pkl')"
   ]
  },
  {
   "cell_type": "code",
   "execution_count": 80,
   "id": "74d3e9bc",
   "metadata": {},
   "outputs": [],
   "source": [
    "# Função de predição\n",
    "def predict(grupo_sanguineo, fumante, nivel_atividade_fisica, idade, peso, altura):\n",
    "    predicao_individual = {\n",
    "        'grupo_sanguineo': grupo_sanguineo,\n",
    "        'fumante': fumante,\n",
    "        'nivel_atividade_fisica': nivel_atividade_fisica,\n",
    "        'idade': idade,\n",
    "        'peso': peso,\n",
    "        'altura': altura\n",
    "    }\n",
    "    predict_df = pd.DataFrame(predicao_individual, index=[1])\n",
    "    colesterol = modelo.predict(predict_df)\n",
    "    return colesterol.item(0)"
   ]
  },
  {
   "cell_type": "code",
   "execution_count": 83,
   "id": "4ebe8d1c",
   "metadata": {},
   "outputs": [],
   "source": [
    "# Criar interface Gradio\n",
    "colesterol_interface = gr.Interface(\n",
    "    fn=predict,\n",
    "    inputs=[\n",
    "        gr.Radio(['O', 'A', 'B', 'AB'], label=\"Grupo Sanguíneo\", value=\"O\"),\n",
    "        gr.Radio([\"Sim\", \"Não\"], label=\"Fumante\", value=\"Não\"),\n",
    "        gr.Radio(['Alto', 'Moderado', 'Baixo'], label=\"Nível de Atividade Física\", value=\"Moderado\"),\n",
    "        gr.Slider(20, 80, step=1, label=\"Idade\", value=45),\n",
    "        gr.Slider(40, 160, step=0.1, label=\"Peso (kg)\", value=94),\n",
    "        gr.Slider(150, 200, step=1, label=\"Altura (cm)\", value=184)\n",
    "    ],\n",
    "    outputs=gr.Number(label=\"Nível de Colesterol (mg/dL)\"),\n",
    "    title=\"Predição de Nível de Colesterol\",\n",
    "    description=\"Insira os dados para prever o nível de colesterol.\"\n",
    ")"
   ]
  },
  {
   "cell_type": "code",
   "execution_count": 88,
   "id": "ac7a6770",
   "metadata": {},
   "outputs": [
    {
     "name": "stdout",
     "output_type": "stream",
     "text": [
      "Closing server running on port: 7880\n",
      "* Running on local URL:  http://127.0.0.1:7880\n",
      "* Running on public URL: https://0d2d36acde283ff7f1.gradio.live\n",
      "\n",
      "This share link expires in 1 week. For free permanent hosting and GPU upgrades, run `gradio deploy` from the terminal in the working directory to deploy to Hugging Face Spaces (https://huggingface.co/spaces)\n"
     ]
    },
    {
     "data": {
      "text/html": [
       "<div><iframe src=\"https://0d2d36acde283ff7f1.gradio.live\" width=\"100%\" height=\"500\" allow=\"autoplay; camera; microphone; clipboard-read; clipboard-write;\" frameborder=\"0\" allowfullscreen></iframe></div>"
      ],
      "text/plain": [
       "<IPython.core.display.HTML object>"
      ]
     },
     "metadata": {},
     "output_type": "display_data"
    },
    {
     "data": {
      "text/plain": []
     },
     "execution_count": 88,
     "metadata": {},
     "output_type": "execute_result"
    }
   ],
   "source": [
    "# Renderizar a interface\n",
    "colesterol_interface.close()\n",
    "colesterol_interface.launch(share=True)"
   ]
  },
  {
   "cell_type": "code",
   "execution_count": null,
   "id": "69612163",
   "metadata": {},
   "outputs": [],
   "source": [
    "# Deploy"
   ]
  }
 ],
 "metadata": {
  "kernelspec": {
   "display_name": "ml-multiple-linear-regression",
   "language": "python",
   "name": "python3"
  },
  "language_info": {
   "codemirror_mode": {
    "name": "ipython",
    "version": 3
   },
   "file_extension": ".py",
   "mimetype": "text/x-python",
   "name": "python",
   "nbconvert_exporter": "python",
   "pygments_lexer": "ipython3",
   "version": "3.11.0"
  }
 },
 "nbformat": 4,
 "nbformat_minor": 5
}
